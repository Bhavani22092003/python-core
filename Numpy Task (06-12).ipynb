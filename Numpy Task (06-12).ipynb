{
 "cells": [
  {
   "cell_type": "code",
   "execution_count": 5,
   "id": "4a97d51f",
   "metadata": {},
   "outputs": [],
   "source": [
    "import numpy as np"
   ]
  },
  {
   "cell_type": "code",
   "execution_count": 6,
   "id": "9b1dcf70",
   "metadata": {},
   "outputs": [],
   "source": [
    "filepath=r'C:\\Users\\Bhavani\\Downloads\\tipsf - tipsf.csv'"
   ]
  },
  {
   "cell_type": "code",
   "execution_count": 68,
   "id": "a6ea35cf",
   "metadata": {},
   "outputs": [
    {
     "data": {
      "text/plain": [
       "array([[  0.  ,  16.99,   1.01, ...,   1.  ,   0.  ,   2.  ],\n",
       "       [  1.  ,  10.34,   1.66, ...,   1.  ,   0.  ,   3.  ],\n",
       "       [  2.  ,  21.01,   3.5 , ...,   1.  ,   0.  ,   3.  ],\n",
       "       ...,\n",
       "       [241.  ,  22.67,   2.  , ...,   0.  ,   0.  ,   2.  ],\n",
       "       [242.  ,  17.82,   1.75, ...,   0.  ,   0.  ,   2.  ],\n",
       "       [243.  ,  18.78,   3.  , ...,   2.  ,   0.  ,   2.  ]])"
      ]
     },
     "execution_count": 68,
     "metadata": {},
     "output_type": "execute_result"
    }
   ],
   "source": [
    "x = np.genfromtxt(filepath,delimiter=',',skip_header=True)\n",
    "x"
   ]
  },
  {
   "cell_type": "markdown",
   "id": "8215910a",
   "metadata": {},
   "source": [
    "## 1.count Total Bill Value"
   ]
  },
  {
   "cell_type": "code",
   "execution_count": 122,
   "id": "28206c8f",
   "metadata": {},
   "outputs": [
    {
     "name": "stdout",
     "output_type": "stream",
     "text": [
      "The Total Bill is : 4827.77\n"
     ]
    }
   ],
   "source": [
    "sum_of_bill_values= np.sum(x[:,1])   ## Here i'm using sum ,to count the entire coloumn of bill \n",
    "                                    ## sum-->it gives the sum of all elements in the particular column or row,which is given by you\n",
    "print(f'The Total Bill is : {sum_of_bill_values}')"
   ]
  },
  {
   "cell_type": "markdown",
   "id": "5e76cef6",
   "metadata": {},
   "source": [
    "## 2.Count Tip value "
   ]
  },
  {
   "cell_type": "code",
   "execution_count": 121,
   "id": "80dfec42",
   "metadata": {},
   "outputs": [
    {
     "name": "stdout",
     "output_type": "stream",
     "text": [
      "The Sum of Total Tip is : 731.5799999999999\n"
     ]
    }
   ],
   "source": [
    "sum_of_tip_values=np.sum(x[:,2]) ## suming of tip column by using sum\n",
    "print(f'The Sum of Total Tip is : {sum_of_tip_values}')"
   ]
  },
  {
   "cell_type": "markdown",
   "id": "558d71de",
   "metadata": {},
   "source": [
    "## 3.Count how many Saturday,sunday,friday thursday are there"
   ]
  },
  {
   "cell_type": "code",
   "execution_count": 11,
   "id": "6ccc33ce",
   "metadata": {},
   "outputs": [],
   "source": [
    "a,b=np.unique(x[:,5],return_counts=True) ## Unique --->it gives unique value in a particular column or row,it doents repeat same value\n",
    "                                        ## Return_counts--->it gives the number of how many times the unique value repeats"
   ]
  },
  {
   "cell_type": "code",
   "execution_count": 120,
   "id": "12701151",
   "metadata": {},
   "outputs": [
    {
     "name": "stdout",
     "output_type": "stream",
     "text": [
      "Saturdays Count:   87\n",
      "sundays Count:   76\n",
      "Friday Count:    62\n",
      "Thursday Count:   19\n"
     ]
    }
   ],
   "source": [
    "print(\"Saturdays Count:  \",b[0])\n",
    "print(\"sundays Count:  \",b[1])\n",
    "print(\"Friday Count:   \",b[2])      ## accessing values of return_counts by using indexing\n",
    "print(\"Thursday Count:  \",b[3]) "
   ]
  },
  {
   "cell_type": "markdown",
   "id": "9f185dc5",
   "metadata": {},
   "source": [
    "## 4.How many Smokers "
   ]
  },
  {
   "cell_type": "code",
   "execution_count": 58,
   "id": "c1975ae9",
   "metadata": {},
   "outputs": [],
   "source": [
    "smokers,How_many_smokers=np.unique(x[:,4],return_counts=True) # same functionality like above "
   ]
  },
  {
   "cell_type": "code",
   "execution_count": 64,
   "id": "34aed491",
   "metadata": {},
   "outputs": [
    {
     "name": "stdout",
     "output_type": "stream",
     "text": [
      "Non-Smokers:  151\n",
      "Smokers: 93\n"
     ]
    }
   ],
   "source": [
    "print('Non-Smokers: ',How_many_smokers[0]) \n",
    "print('Smokers:',   How_many_smokers[1]) "
   ]
  },
  {
   "cell_type": "markdown",
   "id": "9977f7bb",
   "metadata": {},
   "source": [
    "### how many  males and females"
   ]
  },
  {
   "cell_type": "code",
   "execution_count": 115,
   "id": "bf6d7797",
   "metadata": {},
   "outputs": [],
   "source": [
    "c,d=np.unique(x[:,3],return_counts=True)"
   ]
  },
  {
   "cell_type": "code",
   "execution_count": 118,
   "id": "e3a1ac8f",
   "metadata": {},
   "outputs": [
    {
     "name": "stdout",
     "output_type": "stream",
     "text": [
      "No.Of.Males Are :  157\n",
      "No.Of.females Are :  87\n"
     ]
    }
   ],
   "source": [
    "print('No.Of.Males Are : ',d[1])\n",
    "print('No.Of.females Are : ',d[0])"
   ]
  },
  {
   "cell_type": "markdown",
   "id": "3bd618e1",
   "metadata": {},
   "source": [
    "## 5.Average Tips of Female and males"
   ]
  },
  {
   "cell_type": "code",
   "execution_count": 19,
   "id": "8ebdf717",
   "metadata": {},
   "outputs": [],
   "source": [
    "tip_column=x[:,2]  # Assigning tip column to the variable of tip_column\n",
    "gender_column=x[:,3]"
   ]
  },
  {
   "cell_type": "code",
   "execution_count": 124,
   "id": "27481515",
   "metadata": {},
   "outputs": [
    {
     "name": "stdout",
     "output_type": "stream",
     "text": [
      "the avg tip of male is : 2.8334482758620685\n",
      "the avg tip of female is :  3.0896178343949043\n"
     ]
    }
   ],
   "source": [
    "avg_tip_male=np.mean(tip_column[gender_column==0]) \n",
    "avg_tip_female=np.mean(tip_column[gender_column==1]) ## here i'm adding sum tip values and total bill to get the spent of money by both male and female\n",
    "\n",
    "print(f'the avg tip of male is : {avg_tip_male}') \n",
    "print(f'the avg tip of female is :  {avg_tip_female}')"
   ]
  },
  {
   "cell_type": "markdown",
   "id": "c9e15e11",
   "metadata": {},
   "source": [
    "### Another way of finding averages Tips "
   ]
  },
  {
   "cell_type": "code",
   "execution_count": 125,
   "id": "925c5011",
   "metadata": {},
   "outputs": [
    {
     "name": "stdout",
     "output_type": "stream",
     "text": [
      "Female Avg tip is :  3.0896178343949043\n",
      "Male Avg tip is :  2.8334482758620685\n"
     ]
    }
   ],
   "source": [
    "for i in gender_column:\n",
    "    if i==0:\n",
    "        male_avg_tip=np.mean(tip_column[gender_column==0]) \n",
    "    elif i==1:\n",
    "        female_avg_tip=np.mean(tip_column[gender_column==1]) ## here i'm adding sum tip values and total bill to get the spent of money by both male and female\n",
    "print(f'Female Avg tip is :  {female_avg_tip}')\n",
    "print(f'Male Avg tip is :  {male_avg_tip}')"
   ]
  },
  {
   "cell_type": "markdown",
   "id": "437a62a3",
   "metadata": {},
   "source": [
    "### Sum of  Tip values for both and females"
   ]
  },
  {
   "cell_type": "code",
   "execution_count": 105,
   "id": "cc8e6138",
   "metadata": {},
   "outputs": [
    {
     "name": "stdout",
     "output_type": "stream",
     "text": [
      "Female Avg tip is:   485.07\n",
      "Male Avg tip is :    246.50999999999996\n"
     ]
    }
   ],
   "source": [
    "for i in gender_column:\n",
    "    if i==0:\n",
    "        male_total_tip=np.sum(tip_column[gender_column==0]) \n",
    "    elif i==1:\n",
    "        female_total_tip=np.sum(tip_column[gender_column==1])\n",
    "print(f'Female Avg tip is:   {female_total_tip}')\n",
    "print(f'Male Avg tip is :    {male_total_tip}')"
   ]
  },
  {
   "cell_type": "markdown",
   "id": "621214c2",
   "metadata": {},
   "source": [
    "## 6.how much spent by male and female"
   ]
  },
  {
   "cell_type": "code",
   "execution_count": 24,
   "id": "16473239",
   "metadata": {},
   "outputs": [],
   "source": [
    "bill_column=x[:,1]"
   ]
  },
  {
   "cell_type": "code",
   "execution_count": 25,
   "id": "4a45cc7d",
   "metadata": {},
   "outputs": [
    {
     "data": {
      "text/plain": [
       "246.50999999999996"
      ]
     },
     "execution_count": 25,
     "metadata": {},
     "output_type": "execute_result"
    }
   ],
   "source": [
    "female_total_tip  ## female tip "
   ]
  },
  {
   "cell_type": "code",
   "execution_count": 26,
   "id": "89a2db5c",
   "metadata": {},
   "outputs": [
    {
     "data": {
      "text/plain": [
       "485.07"
      ]
     },
     "execution_count": 26,
     "metadata": {},
     "output_type": "execute_result"
    }
   ],
   "source": [
    "male_total_tip ## male tip"
   ]
  },
  {
   "cell_type": "code",
   "execution_count": 27,
   "id": "1fbcdbb8",
   "metadata": {},
   "outputs": [
    {
     "name": "stdout",
     "output_type": "stream",
     "text": [
      "the total amount spent by female  3503.3299999999995\n",
      "the total amount spent by male 2056.0199999999995\n"
     ]
    }
   ],
   "source": [
    "Total_male=np.sum(bill_column[gender_column==0])\n",
    "Total_female=np.sum(bill_column[gender_column==1])\n",
    "total_female_spent=Total_female+ female_total_tip  ## here i'm adding sum tip values and total bill to get the spent of money by both male and female\n",
    "total_male_spent=Total_male+male_total_tip\n",
    "\n",
    "print(f'the total amount spent by female  {total_female_spent}')\n",
    "print(f'the total amount spent by male {total_male_spent}')"
   ]
  },
  {
   "cell_type": "markdown",
   "id": "19b17558",
   "metadata": {},
   "source": [
    "## 7.minimum and maximum of Tip"
   ]
  },
  {
   "cell_type": "code",
   "execution_count": 126,
   "id": "664576de",
   "metadata": {},
   "outputs": [
    {
     "name": "stdout",
     "output_type": "stream",
     "text": [
      "The minimum tip is : 1.0\n",
      "the maximum tip is :  10.0\n"
     ]
    }
   ],
   "source": [
    "min_tip=np.min(tip_column) ## here i'm finding min and max of tips bu using np.min,np.max functions .\n",
    "                                 ## np.min--->which is minimum\n",
    "                                 ## np.max--->which is maximum\n",
    "max_tip=np.max(tip_column)\n",
    "print(f'The minimum tip is : {min_tip}')  \n",
    "print(f'the maximum tip is :  {max_tip}')"
   ]
  },
  {
   "cell_type": "markdown",
   "id": "50efeb83",
   "metadata": {},
   "source": [
    "## 8.How many Male and Females are going for Lunch \n"
   ]
  },
  {
   "cell_type": "code",
   "execution_count": 82,
   "id": "b36c1a32",
   "metadata": {},
   "outputs": [
    {
     "name": "stdout",
     "output_type": "stream",
     "text": [
      "Number of males going for lunch:  35\n",
      "Number of females going for lunch: 33\n"
     ]
    }
   ],
   "source": [
    "gender = x[:, 3]\n",
    "time = x[:, 6]\n",
    "male_lunch = np.sum((gender==0) & (time==1))\n",
    "female_lunch = np.sum((gender==1) & (time==1)) \n",
    "print(f'Number of males going for lunch:  {male_lunch}')\n",
    "print(f'Number of females going for lunch: {female_lunch}')"
   ]
  },
  {
   "cell_type": "markdown",
   "id": "6381e2f5",
   "metadata": {},
   "source": [
    "## How many Male and Females are going for Lunch"
   ]
  },
  {
   "cell_type": "code",
   "execution_count": 83,
   "id": "6b740b7f",
   "metadata": {},
   "outputs": [
    {
     "name": "stdout",
     "output_type": "stream",
     "text": [
      "Number of males going for lunch : 52\n",
      "Number of females going for lunch: 124\n"
     ]
    }
   ],
   "source": [
    "gender = x[:, 3]\n",
    "time = x[:, 6]\n",
    "male_dinner = np.sum((gender==0) & (time==0)) # It checks the inner condition ,it prints sum where the inner condition is true.\n",
    "female_dinner = np.sum((gender==1) & (time==0))\n",
    "print(f'Number of males going for lunch : {male_dinner}' )\n",
    "print(f'Number of females going for lunch: {female_dinner}')"
   ]
  },
  {
   "cell_type": "markdown",
   "id": "60c16025",
   "metadata": {},
   "source": [
    "## 9.Find out the Average of Size "
   ]
  },
  {
   "cell_type": "code",
   "execution_count": 87,
   "id": "ce870e53",
   "metadata": {},
   "outputs": [],
   "source": [
    "size=x[:,7]"
   ]
  },
  {
   "cell_type": "code",
   "execution_count": 88,
   "id": "e9b1e7fb",
   "metadata": {},
   "outputs": [],
   "source": [
    "Average_of_size=np.mean(size)  ## finding average of size by using np.mean \n",
    "                                ## mean is nothing average--->sum of values/no.of values "
   ]
  },
  {
   "cell_type": "code",
   "execution_count": 90,
   "id": "caa35086",
   "metadata": {},
   "outputs": [
    {
     "data": {
      "text/plain": [
       "2.569672131147541"
      ]
     },
     "execution_count": 90,
     "metadata": {},
     "output_type": "execute_result"
    }
   ],
   "source": [
    "Average_of_size\n"
   ]
  },
  {
   "cell_type": "markdown",
   "id": "f12daf8d",
   "metadata": {},
   "source": [
    "## 10.How many Male Smokers and How many Female Smokers "
   ]
  },
  {
   "cell_type": "code",
   "execution_count": 104,
   "id": "80b618b5",
   "metadata": {},
   "outputs": [
    {
     "name": "stdout",
     "output_type": "stream",
     "text": [
      "MaleSmokers: 33\n",
      "FemaleSmokers: 60\n"
     ]
    }
   ],
   "source": [
    "gender=(x[:,3])\n",
    "smokers=(x[:,4]) \n",
    "male_smokers=np.sum((gender==0) & (smokers==1))  # It checks the inner condition ,it prints sum where the inner condition is true.\n",
    "female_smokers=np.sum((gender==1) & (smokers==1))\n",
    "print(f'MaleSmokers: {male_smokers}')\n",
    "print(f'FemaleSmokers: {female_smokers}')"
   ]
  },
  {
   "cell_type": "code",
   "execution_count": null,
   "id": "d7577810",
   "metadata": {},
   "outputs": [],
   "source": []
  }
 ],
 "metadata": {
  "kernelspec": {
   "display_name": "Python 3 (ipykernel)",
   "language": "python",
   "name": "python3"
  },
  "language_info": {
   "codemirror_mode": {
    "name": "ipython",
    "version": 3
   },
   "file_extension": ".py",
   "mimetype": "text/x-python",
   "name": "python",
   "nbconvert_exporter": "python",
   "pygments_lexer": "ipython3",
   "version": "3.11.5"
  }
 },
 "nbformat": 4,
 "nbformat_minor": 5
}
