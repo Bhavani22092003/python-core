{
 "cells": [
  {
   "cell_type": "code",
   "execution_count": 2,
   "id": "90922270",
   "metadata": {},
   "outputs": [],
   "source": [
    "import numpy as np"
   ]
  },
  {
   "cell_type": "markdown",
   "id": "4dbaf77b",
   "metadata": {},
   "source": [
    "### np.zeros :\n",
    "* np.zeros is a function that creates an array filled with zeros. You specify the shape of the array (the number of rows and columns) as an argument, and the function returns an array of that shape, where all the elements are set to zero.\n",
    "* This function is useful when you need to initialize an array with zeros "
   ]
  },
  {
   "cell_type": "markdown",
   "id": "173e37bb",
   "metadata": {},
   "source": [
    "### 1. Write a program to create a 5 dimensional array with all zeros and ones"
   ]
  },
  {
   "cell_type": "code",
   "execution_count": 239,
   "id": "0b1701af",
   "metadata": {},
   "outputs": [
    {
     "name": "stdout",
     "output_type": "stream",
     "text": [
      "[[[0. 0. 0.]\n",
      "  [0. 0. 0.]\n",
      "  [0. 0. 0.]]\n",
      "\n",
      " [[0. 0. 0.]\n",
      "  [0. 0. 0.]\n",
      "  [0. 0. 0.]]\n",
      "\n",
      " [[0. 0. 0.]\n",
      "  [0. 0. 0.]\n",
      "  [0. 0. 0.]]\n",
      "\n",
      " [[0. 0. 0.]\n",
      "  [0. 0. 0.]\n",
      "  [0. 0. 0.]]\n",
      "\n",
      " [[0. 0. 0.]\n",
      "  [0. 0. 0.]\n",
      "  [0. 0. 0.]]]\n"
     ]
    }
   ],
   "source": [
    "x= np.zeros((5,3,3)) \n",
    "print(x)\n"
   ]
  },
  {
   "cell_type": "markdown",
   "id": "9554d24f",
   "metadata": {},
   "source": [
    "### np.ones ( )\n",
    "* np.ones, which creates an array filled with ones."
   ]
  },
  {
   "cell_type": "code",
   "execution_count": 240,
   "id": "4e81b40c",
   "metadata": {},
   "outputs": [
    {
     "name": "stdout",
     "output_type": "stream",
     "text": [
      "[[[1. 1. 1. 1. 1.]\n",
      "  [1. 1. 1. 1. 1.]]\n",
      "\n",
      " [[1. 1. 1. 1. 1.]\n",
      "  [1. 1. 1. 1. 1.]]\n",
      "\n",
      " [[1. 1. 1. 1. 1.]\n",
      "  [1. 1. 1. 1. 1.]]\n",
      "\n",
      " [[1. 1. 1. 1. 1.]\n",
      "  [1. 1. 1. 1. 1.]]\n",
      "\n",
      " [[1. 1. 1. 1. 1.]\n",
      "  [1. 1. 1. 1. 1.]]]\n"
     ]
    }
   ],
   "source": [
    "x = np.ones((5,2,5)) \n",
    "print(x)"
   ]
  },
  {
   "cell_type": "markdown",
   "id": "3e630acb",
   "metadata": {},
   "source": [
    "### 2. Write a program to create an array of 10 zeros,10 ones, and 10 fives in row 1 2 and 3 which create a new array of shape (3,10)"
   ]
  },
  {
   "cell_type": "markdown",
   "id": "5fa3de5d",
   "metadata": {},
   "source": [
    "### np.full ( ):\n",
    "*  The np.full() function is used to create an array of a specified shape and fill it with a constant value. It takes the shape of the array and the constant value as its primary arguments.\n",
    "* This function is useful when you want to create an array with a constant value across all its elements."
   ]
  },
  {
   "cell_type": "code",
   "execution_count": 190,
   "id": "e3cc134a",
   "metadata": {},
   "outputs": [
    {
     "name": "stdout",
     "output_type": "stream",
     "text": [
      "[[0. 0. 0. 0. 0. 0. 0. 0. 0. 0.]\n",
      " [1. 1. 1. 1. 1. 1. 1. 1. 1. 1.]\n",
      " [5. 5. 5. 5. 5. 5. 5. 5. 5. 5.]]\n"
     ]
    }
   ],
   "source": [
    "x=np.array([np.zeros(10),np.ones(10),np.full(10,5)]) ## here we passing elements in a list\n",
    "print(x)"
   ]
  },
  {
   "cell_type": "markdown",
   "id": "47fd2303",
   "metadata": {},
   "source": [
    "### 3. Write a program to create a 3x4 matrix filled with values from 10 to 21."
   ]
  },
  {
   "cell_type": "code",
   "execution_count": 84,
   "id": "f3653279",
   "metadata": {},
   "outputs": [
    {
     "data": {
      "text/plain": [
       "array([[10, 11, 12, 13],\n",
       "       [14, 15, 16, 17],\n",
       "       [18, 19, 20, 21]])"
      ]
     },
     "execution_count": 84,
     "metadata": {},
     "output_type": "execute_result"
    }
   ],
   "source": [
    "zz=np.arange(10,22).reshape(3,4) ## arange is nothing but a range function ,arange(start,end,step)-->we have to pass the arguments like that\n",
    "zz"
   ]
  },
  {
   "cell_type": "markdown",
   "id": "9eaed73a",
   "metadata": {},
   "source": [
    "### 4. Write a program to create a 10x10 zero matrix with elements on the main diagonal equal to 0,1,2,3,4,5,6,7,8,9,"
   ]
  },
  {
   "cell_type": "markdown",
   "id": "d70bdd40",
   "metadata": {},
   "source": [
    "### Identity matrix\n",
    "* An identity matrix is a special type of square matrix where all the elements in the main diagonal (from the top-left to the bottom-right) are equal to 1, and all other elements are equal to 0.\n",
    "* we have functions that is used to create an identity matrix."
   ]
  },
  {
   "cell_type": "markdown",
   "id": "53590c61",
   "metadata": {},
   "source": [
    "### np.eye\n",
    "* np.eye() function takes the number of rows (and optionally, the number of columns) as its argument "
   ]
  },
  {
   "cell_type": "code",
   "execution_count": 101,
   "id": "f94241ea",
   "metadata": {},
   "outputs": [
    {
     "name": "stdout",
     "output_type": "stream",
     "text": [
      "[[1. 0. 0. 0. 0. 0. 0. 0. 0. 0.]\n",
      " [0. 1. 0. 0. 0. 0. 0. 0. 0. 0.]\n",
      " [0. 0. 1. 0. 0. 0. 0. 0. 0. 0.]\n",
      " [0. 0. 0. 1. 0. 0. 0. 0. 0. 0.]\n",
      " [0. 0. 0. 0. 1. 0. 0. 0. 0. 0.]\n",
      " [0. 0. 0. 0. 0. 1. 0. 0. 0. 0.]\n",
      " [0. 0. 0. 0. 0. 0. 1. 0. 0. 0.]\n",
      " [0. 0. 0. 0. 0. 0. 0. 1. 0. 0.]\n",
      " [0. 0. 0. 0. 0. 0. 0. 0. 1. 0.]\n",
      " [0. 0. 0. 0. 0. 0. 0. 0. 0. 1.]]\n",
      "\n",
      " [[0. 0. 0. 0. 0. 0. 0. 0. 0. 0.]\n",
      " [0. 1. 0. 0. 0. 0. 0. 0. 0. 0.]\n",
      " [0. 0. 2. 0. 0. 0. 0. 0. 0. 0.]\n",
      " [0. 0. 0. 3. 0. 0. 0. 0. 0. 0.]\n",
      " [0. 0. 0. 0. 4. 0. 0. 0. 0. 0.]\n",
      " [0. 0. 0. 0. 0. 5. 0. 0. 0. 0.]\n",
      " [0. 0. 0. 0. 0. 0. 6. 0. 0. 0.]\n",
      " [0. 0. 0. 0. 0. 0. 0. 7. 0. 0.]\n",
      " [0. 0. 0. 0. 0. 0. 0. 0. 8. 0.]\n",
      " [0. 0. 0. 0. 0. 0. 0. 0. 0. 9.]]\n"
     ]
    }
   ],
   "source": [
    "xx=np.eye(10)\n",
    "print(xx,sep='\\n')\n",
    "\n",
    "\n",
    "for i in range(10):\n",
    "    xx[i,i]=i  ## eache diagonal element is replaces with 0 to 9 \n",
    "print('\\n',xx) "
   ]
  },
  {
   "cell_type": "markdown",
   "id": "af93b75d",
   "metadata": {},
   "source": [
    "#### Another way, by using default attribute diag(diagnol)"
   ]
  },
  {
   "cell_type": "code",
   "execution_count": 102,
   "id": "67aea8c9",
   "metadata": {},
   "outputs": [
    {
     "name": "stdout",
     "output_type": "stream",
     "text": [
      "[[0 0 0 0 0 0 0 0 0 0]\n",
      " [0 1 0 0 0 0 0 0 0 0]\n",
      " [0 0 2 0 0 0 0 0 0 0]\n",
      " [0 0 0 3 0 0 0 0 0 0]\n",
      " [0 0 0 0 4 0 0 0 0 0]\n",
      " [0 0 0 0 0 5 0 0 0 0]\n",
      " [0 0 0 0 0 0 6 0 0 0]\n",
      " [0 0 0 0 0 0 0 7 0 0]\n",
      " [0 0 0 0 0 0 0 0 8 0]\n",
      " [0 0 0 0 0 0 0 0 0 9]]\n"
     ]
    }
   ],
   "source": [
    "replace_diagnols = np.diag(np.arange(10))\n",
    "print(replace_diagnols)"
   ]
  },
  {
   "cell_type": "markdown",
   "id": "e1f7fb17",
   "metadata": {},
   "source": [
    "### 5. Write a program to create a 4x4 array. Create an array from below array by swapping first and last, second and third columns."
   ]
  },
  {
   "cell_type": "code",
   "execution_count": 107,
   "id": "0f676c2e",
   "metadata": {},
   "outputs": [
    {
     "data": {
      "text/plain": [
       "array([[ 1,  2,  3,  4],\n",
       "       [ 5,  6,  7,  8],\n",
       "       [ 9, 10, 11, 12],\n",
       "       [13, 14, 15, 16]])"
      ]
     },
     "execution_count": 107,
     "metadata": {},
     "output_type": "execute_result"
    }
   ],
   "source": [
    "c=np.arange(1,17).reshape(4,4)\n",
    "c"
   ]
  },
  {
   "cell_type": "code",
   "execution_count": 109,
   "id": "735fa1b4",
   "metadata": {},
   "outputs": [
    {
     "data": {
      "text/plain": [
       "array([[13, 14, 15, 16],\n",
       "       [ 9, 10, 11, 12],\n",
       "       [ 5,  6,  7,  8],\n",
       "       [ 1,  2,  3,  4]])"
      ]
     },
     "execution_count": 109,
     "metadata": {},
     "output_type": "execute_result"
    }
   ],
   "source": [
    "c[::-1]  ## rows swapping"
   ]
  },
  {
   "cell_type": "code",
   "execution_count": 110,
   "id": "75482e19",
   "metadata": {},
   "outputs": [
    {
     "data": {
      "text/plain": [
       "array([[16, 15, 14, 13],\n",
       "       [12, 11, 10,  9],\n",
       "       [ 8,  7,  6,  5],\n",
       "       [ 4,  3,  2,  1]])"
      ]
     },
     "execution_count": 110,
     "metadata": {},
     "output_type": "execute_result"
    }
   ],
   "source": [
    "c[::-1,::-1] ## swapping of elements in a row "
   ]
  },
  {
   "cell_type": "markdown",
   "id": "5bdc3792",
   "metadata": {},
   "source": [
    "### 6.Write a program to reverse an array (the first element becomes the last)."
   ]
  },
  {
   "cell_type": "code",
   "execution_count": 115,
   "id": "731615f3",
   "metadata": {},
   "outputs": [
    {
     "name": "stdout",
     "output_type": "stream",
     "text": [
      "[ 0  1  2  3  4  5  6  7  8  9 10]\n",
      "[10  9  8  7  6  5  4  3  2  1  0]\n"
     ]
    }
   ],
   "source": [
    "array=np.arange(11)\n",
    "print(array,array[::-1],sep='\\n')"
   ]
  },
  {
   "cell_type": "markdown",
   "id": "374e1deb",
   "metadata": {},
   "source": [
    "### 7. Write a program to access all the elements greater than 30 and less than 80 and multiples of 5 from an array of shape 10,10 .Elements range from 1 to 100"
   ]
  },
  {
   "cell_type": "code",
   "execution_count": 155,
   "id": "c018599f",
   "metadata": {},
   "outputs": [
    {
     "name": "stdout",
     "output_type": "stream",
     "text": [
      "[[  1   2   3   4   5   6   7   8   9  10]\n",
      " [ 11  12  13  14  15  16  17  18  19  20]\n",
      " [ 21  22  23  24  25  26  27  28  29  30]\n",
      " [ 31  32  33  34  35  36  37  38  39  40]\n",
      " [ 41  42  43  44  45  46  47  48  49  50]\n",
      " [ 51  52  53  54  55  56  57  58  59  60]\n",
      " [ 61  62  63  64  65  66  67  68  69  70]\n",
      " [ 71  72  73  74  75  76  77  78  79  80]\n",
      " [ 81  82  83  84  85  86  87  88  89  90]\n",
      " [ 91  92  93  94  95  96  97  98  99 100]]\n",
      "\n",
      " [35 40 45 50 55 60 65 70 75]\n"
     ]
    }
   ],
   "source": [
    "numbers=np.arange(1,101).reshape(10,10)\n",
    "print(numbers)\n",
    "#y=[]\n",
    "#if (numbers>30) & (numbers<80) & (numbers%5==0):\n",
    "    #y.append(numbers)\n",
    "#print(y)\n",
    "y = numbers[np.where((numbers > 30) & (numbers < 80) & (numbers % 5 == 0))]\n",
    "print('\\n', y)\n",
    "#z=[numbers if (numbers > 30) & (numbers < 80) & (numbers % 5 == 0) else '']"
   ]
  },
  {
   "cell_type": "markdown",
   "id": "aa6a0f00",
   "metadata": {},
   "source": [
    "### 8. Write a program to create a 2D array with 1 on the border and 0 inside.\n"
   ]
  },
  {
   "cell_type": "code",
   "execution_count": 259,
   "id": "81294d2b",
   "metadata": {},
   "outputs": [
    {
     "name": "stdout",
     "output_type": "stream",
     "text": [
      "[[[1. 1. 1. 1. 1.]\n",
      "  [1. 0. 0. 0. 1.]\n",
      "  [1. 0. 0. 0. 1.]\n",
      "  [1. 0. 0. 0. 1.]\n",
      "  [1. 1. 1. 1. 1.]]\n",
      "\n",
      " [[1. 1. 1. 1. 1.]\n",
      "  [1. 0. 0. 0. 1.]\n",
      "  [1. 0. 0. 0. 1.]\n",
      "  [1. 0. 0. 0. 1.]\n",
      "  [1. 1. 1. 1. 1.]]]\n"
     ]
    }
   ],
   "source": [
    "a=np.ones((2,5,5))\n",
    "a[0][1:4,1:4]=0  ## here im using slicing for filling zeros inside\n",
    "a[1][1:4,1:4]=0\n",
    "print(a)\n",
    "\n",
    "\n",
    "\n"
   ]
  },
  {
   "cell_type": "code",
   "execution_count": 264,
   "id": "7f8d3daa",
   "metadata": {},
   "outputs": [
    {
     "name": "stdout",
     "output_type": "stream",
     "text": [
      "[[0. 0. 0. 0. 0.]\n",
      " [0. 1. 1. 1. 0.]\n",
      " [0. 1. 1. 1. 0.]\n",
      " [0. 1. 1. 1. 0.]\n",
      " [0. 0. 0. 0. 0.]]\n"
     ]
    }
   ],
   "source": [
    "b=np.zeros((5,5))\n",
    "b[1:4,1:4]=1  ## here im using slicing for filling ones inside\n",
    "print(b)"
   ]
  },
  {
   "cell_type": "markdown",
   "id": "b08407d6",
   "metadata": {},
   "source": [
    "### 9.Write a program to create a checkerboard pattern .Don't use default array function\n",
    "Checkerboard pattern:                                                   \n",
    "[[0 1 0 1 0 1 0 1]                                                      \n",
    " [1 0 1 0 1 0 1 0]                                                      \n",
    " [0 1 0 1 0 1 0 1]                                                      \n",
    " [1 0 1 0 1 0 1 0]                                                      \n",
    " [0 1 0 1 0 1 0 1]                                                      \n",
    " [1 0 1 0 1 0 1 0]                                                      \n",
    " [0 1 0 1 0 1 0 1]                                                      \n",
    " [1 0 1 0 1 0 1 0]]\n"
   ]
  },
  {
   "cell_type": "code",
   "execution_count": 86,
   "id": "94f5d954",
   "metadata": {},
   "outputs": [
    {
     "name": "stdout",
     "output_type": "stream",
     "text": [
      "[[0. 0. 0. 0. 0. 0. 0. 0. 0. 0.]\n",
      " [0. 0. 0. 0. 0. 0. 0. 0. 0. 0.]\n",
      " [0. 0. 0. 0. 0. 0. 0. 0. 0. 0.]\n",
      " [0. 0. 0. 0. 0. 0. 0. 0. 0. 0.]\n",
      " [0. 0. 0. 0. 0. 0. 0. 0. 0. 0.]\n",
      " [0. 0. 0. 0. 0. 0. 0. 0. 0. 0.]\n",
      " [0. 0. 0. 0. 0. 0. 0. 0. 0. 0.]\n",
      " [0. 0. 0. 0. 0. 0. 0. 0. 0. 0.]\n",
      " [0. 0. 0. 0. 0. 0. 0. 0. 0. 0.]\n",
      " [0. 0. 0. 0. 0. 0. 0. 0. 0. 0.]]\n"
     ]
    }
   ],
   "source": [
    "zero=np.zeros((10,10))\n",
    "print(zero)"
   ]
  },
  {
   "cell_type": "code",
   "execution_count": 89,
   "id": "b3211491",
   "metadata": {},
   "outputs": [],
   "source": [
    "zero[::2, 1::2] = 1  \n",
    "zero[1::2,::2]=1\n"
   ]
  },
  {
   "cell_type": "code",
   "execution_count": 90,
   "id": "050f293c",
   "metadata": {},
   "outputs": [
    {
     "name": "stdout",
     "output_type": "stream",
     "text": [
      "[[0. 1. 0. 1. 0. 1. 0. 1. 0. 1.]\n",
      " [1. 0. 1. 0. 1. 0. 1. 0. 1. 0.]\n",
      " [0. 1. 0. 1. 0. 1. 0. 1. 0. 1.]\n",
      " [1. 0. 1. 0. 1. 0. 1. 0. 1. 0.]\n",
      " [0. 1. 0. 1. 0. 1. 0. 1. 0. 1.]\n",
      " [1. 0. 1. 0. 1. 0. 1. 0. 1. 0.]\n",
      " [0. 1. 0. 1. 0. 1. 0. 1. 0. 1.]\n",
      " [1. 0. 1. 0. 1. 0. 1. 0. 1. 0.]\n",
      " [0. 1. 0. 1. 0. 1. 0. 1. 0. 1.]\n",
      " [1. 0. 1. 0. 1. 0. 1. 0. 1. 0.]]\n"
     ]
    }
   ],
   "source": [
    "print(zero)"
   ]
  },
  {
   "cell_type": "markdown",
   "id": "93958098",
   "metadata": {},
   "source": [
    "### 10.Write a program to find common values between two arrays.\n",
    "Expected Output:\n",
    "array1: [10 20 40 60]\n",
    "array2: [10, 30, 40,50]\n"
   ]
  },
  {
   "cell_type": "code",
   "execution_count": 10,
   "id": "6a09b419",
   "metadata": {},
   "outputs": [
    {
     "name": "stdout",
     "output_type": "stream",
     "text": [
      "[10 40]\n"
     ]
    }
   ],
   "source": [
    "array1 = np.array([10, 20, 40, 60])\n",
    "array2 = np.array([10, 30, 40, 50])\n",
    "\n",
    "common_values = np.intersect1d(array1, array2)\n",
    "print(common_values)\n"
   ]
  },
  {
   "cell_type": "markdown",
   "id": "2d42528f",
   "metadata": {},
   "source": [
    "### 11 Write a program to create an array 2d array and then reshape into 1d array"
   ]
  },
  {
   "cell_type": "markdown",
   "id": "6aa9ea0e",
   "metadata": {},
   "source": [
    "### ravel ( ):\n",
    "* we can use ravel method to convert 2D array into 1D array"
   ]
  },
  {
   "cell_type": "code",
   "execution_count": 198,
   "id": "18088283",
   "metadata": {},
   "outputs": [
    {
     "name": "stdout",
     "output_type": "stream",
     "text": [
      "[[ 1  2  3  4  5  6  7  8  9 10]\n",
      " [11 12 13 14 15 16 17 18 19 20]]\n",
      "[ 1  2  3  4  5  6  7  8  9 10 11 12 13 14 15 16 17 18 19 20]\n"
     ]
    }
   ],
   "source": [
    "array=np.arange(1,21).reshape(2,10)\n",
    "one_dim=array.ravel()\n",
    "print(array,one_dim,sep='\\n') "
   ]
  },
  {
   "cell_type": "code",
   "execution_count": null,
   "id": "e60ceecb",
   "metadata": {},
   "outputs": [],
   "source": []
  }
 ],
 "metadata": {
  "kernelspec": {
   "display_name": "Python 3 (ipykernel)",
   "language": "python",
   "name": "python3"
  },
  "language_info": {
   "codemirror_mode": {
    "name": "ipython",
    "version": 3
   },
   "file_extension": ".py",
   "mimetype": "text/x-python",
   "name": "python",
   "nbconvert_exporter": "python",
   "pygments_lexer": "ipython3",
   "version": "3.11.5"
  }
 },
 "nbformat": 4,
 "nbformat_minor": 5
}
