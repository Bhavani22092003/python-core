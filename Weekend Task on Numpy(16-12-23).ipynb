{
 "cells": [
  {
   "cell_type": "markdown",
   "id": "98f507b0",
   "metadata": {},
   "source": [
    "###  1. Write a function, foo_1, that takes a NumPy array `arr` and returns the indices of the elements that are closest to a given target. If target is not in the given array, it should return ‘no item found’"
   ]
  },
  {
   "cell_type": "code",
   "execution_count": 3,
   "id": "b7a9a82a",
   "metadata": {},
   "outputs": [],
   "source": [
    "import numpy as np "
   ]
  },
  {
   "cell_type": "code",
   "execution_count": 4,
   "id": "4194d807",
   "metadata": {},
   "outputs": [],
   "source": [
    "array=np.random.randint(1,100,10) ## printing numbers randomly "
   ]
  },
  {
   "cell_type": "code",
   "execution_count": 5,
   "id": "dacb42d4",
   "metadata": {},
   "outputs": [
    {
     "name": "stdout",
     "output_type": "stream",
     "text": [
      " array is [ 3 94 70  4 55 81 31 41  9 98]\n"
     ]
    }
   ],
   "source": [
    "print(f' array is {array}') "
   ]
  },
  {
   "cell_type": "code",
   "execution_count": 64,
   "id": "70a8942e",
   "metadata": {},
   "outputs": [],
   "source": [
    "def foo_1(arr, target):\n",
    "    if target not in arr:\n",
    "        return 'No Item Found'\n",
    "    differences = np.absolute(arr - target)  \n",
    "    indices = np.argsort(differences)\n",
    "    return indices"
   ]
  },
  {
   "cell_type": "code",
   "execution_count": 65,
   "id": "aa977034",
   "metadata": {},
   "outputs": [],
   "source": [
    "array=np.array([3, 8, 7, 7, 7, 7, 7, 8, 7, 10])"
   ]
  },
  {
   "cell_type": "code",
   "execution_count": 66,
   "id": "b1d77a3d",
   "metadata": {},
   "outputs": [
    {
     "data": {
      "text/plain": [
       "array([2, 3, 4, 5, 6, 8, 1, 7, 9, 0], dtype=int64)"
      ]
     },
     "execution_count": 66,
     "metadata": {},
     "output_type": "execute_result"
    }
   ],
   "source": [
    "foo_1(array,7)"
   ]
  },
  {
   "cell_type": "code",
   "execution_count": 9,
   "id": "cd56b8bd",
   "metadata": {},
   "outputs": [
    {
     "data": {
      "text/plain": [
       "'No Item Found'"
      ]
     },
     "execution_count": 9,
     "metadata": {},
     "output_type": "execute_result"
    }
   ],
   "source": [
    "foo_1(array,11)"
   ]
  },
  {
   "cell_type": "markdown",
   "id": "8ec407bc",
   "metadata": {},
   "source": [
    "## Explanation : \n",
    "* <b> Step -1 </b> : i'm writing a function which accepts array and target number.\n",
    "* <b> step-2 : </b> : if target not in arr: ,not in means it checks the target number in arr ,if target number is not in array then it prints the return statement of if .\n",
    "* <b> step-3 : </b> :   differences = np.absolute(arr - target)  ,i'm substracting each number with the target number ,then i can easily find out the nearest indices of numbers .absolute ---> it rremoves the -ve simbol and gives absolute number \n",
    "* <b> step-4 : </b> :  i'm assigning argsort to the indices ,argsort --> it sorts the indices of numbers .\n",
    "* <b> step-5 : </b> : then return the indices "
   ]
  },
  {
   "cell_type": "markdown",
   "id": "a133a2d1",
   "metadata": {},
   "source": [
    "### 2. Write a user defined function foo_2 that takes a  2,3 dim NumPy array arr and returns a new n-1 dim array, where each element is replaced by the count of non-zero elements wrt axis.\n"
   ]
  },
  {
   "cell_type": "code",
   "execution_count": 75,
   "id": "48613979",
   "metadata": {},
   "outputs": [],
   "source": [
    "def foo_2(arr, axis):\n",
    "    if arr.ndim == 2:\n",
    "        x=np.where(arr != 0, 1, 0)\n",
    "        counts=np.sum(x,axis=axis)\n",
    "        return counts\n",
    "    elif arr.ndim == 3:\n",
    "        x=np.where(arr != 0, 1, 0)\n",
    "        counts=np.sum(x,axis=axis)\n",
    "        return counts"
   ]
  },
  {
   "cell_type": "code",
   "execution_count": 76,
   "id": "a3d66639",
   "metadata": {},
   "outputs": [
    {
     "data": {
      "text/plain": [
       "array([4, 1, 2])"
      ]
     },
     "execution_count": 76,
     "metadata": {},
     "output_type": "execute_result"
    }
   ],
   "source": [
    "array = np.array([[1, 2, 3, 4],\n",
    "                [0, 5, 0, 0],\n",
    "                [2, 0, 1, 0]])\n",
    "foo_2(array,axis=1)"
   ]
  },
  {
   "cell_type": "code",
   "execution_count": 77,
   "id": "639536ff",
   "metadata": {},
   "outputs": [
    {
     "data": {
      "text/plain": [
       "array([2, 2, 2, 1])"
      ]
     },
     "execution_count": 77,
     "metadata": {},
     "output_type": "execute_result"
    }
   ],
   "source": [
    "foo_2(array,axis=0)"
   ]
  },
  {
   "cell_type": "code",
   "execution_count": 78,
   "id": "113e40fc",
   "metadata": {},
   "outputs": [
    {
     "data": {
      "text/plain": [
       "array([[2, 1, 2, 1],\n",
       "       [0, 2, 0, 0],\n",
       "       [2, 1, 2, 1]])"
      ]
     },
     "execution_count": 78,
     "metadata": {},
     "output_type": "execute_result"
    }
   ],
   "source": [
    "arr1 = np.array([[[1, 2, 3, 4], [0, 5, 0, 0], [2, 0, 1, 0]],\n",
    "                 [[2, 0, 1, 0], [0, 5, 0, 0], [1, 2, 3, 4]]])\n",
    "foo_2(arr1,axis=0)"
   ]
  },
  {
   "cell_type": "markdown",
   "id": "03e6bad5",
   "metadata": {},
   "source": [
    "## Explanation :\n",
    "* <b> Step-1 </b> : creat a function which accepts array and axis .\n",
    "arr ----> which is array , axis ----> in arrays we have axis ,when axis=0 it collapsing the rows ,axis=1 is for columns\n",
    "* <b> step-2 </b> : if arr.ndim==2: ---> if the given array is 2 dim array then it executes the beneath of if statement .\n",
    "* <b> step-3 </b> : x=np.where(arr != 0, 1, 0) \"Where\" Function to create a new array x with the same shape as the input array. The elements of x are 1((which is True) the corresponding elements of arr are not equal to 0 ,if it is equal to zero then it is 0(which is False ).\n",
    "* <b> step-4 </b> :  counts=np.sum(x,axis=axis)---> sum of x ,is nothing but count of non zero elements.\n",
    "* <b> step-5 </b> : returns counts \n",
    "* <b> step-6 </b> : the above functionality is same for 3 dim array "
   ]
  },
  {
   "cell_type": "markdown",
   "id": "9e923944",
   "metadata": {},
   "source": [
    "###  3.1 You are given a 2D NumPy array of data representing student scores. Each row represents a student, and each column represents a subject. Extract the scores of all students who scored above 90 in at least one subject. Provide the resulting array."
   ]
  },
  {
   "cell_type": "code",
   "execution_count": 14,
   "id": "8f048b5c",
   "metadata": {},
   "outputs": [],
   "source": [
    "second_array=np.array([[85,88,89],  \n",
    "                      [78,89,94], (which is True) \n",
    "                      [91,87,90],\n",
    "                      [87,95,84]])"
   ]
  },
  {
   "cell_type": "code",
   "execution_count": 15,
   "id": "a75e5905",
   "metadata": {},
   "outputs": [
    {
     "data": {
      "text/plain": [
       "array([[85, 88, 89],\n",
       "       [78, 89, 94],\n",
       "       [91, 87, 90],\n",
       "       [87, 95, 84]])"
      ]
     },
     "execution_count": 15,
     "metadata": {},
     "output_type": "execute_result"
    }
   ],
   "source": [
    "second_array"
   ]
  },
  {
   "cell_type": "code",
   "execution_count": 16,
   "id": "e839667a",
   "metadata": {},
   "outputs": [],
   "source": [
    "def foo_2(array):\n",
    "    x=np.any(second_array > 90, axis=1)\n",
    "    result=array[x]                                   \n",
    "    print(\" students who scored greater than 90:\")\n",
    "    print(result)"
   ]
  },
  {
   "cell_type": "code",
   "execution_count": 17,
   "id": "8cc044d8",
   "metadata": {},
   "outputs": [
    {
     "name": "stdout",
     "output_type": "stream",
     "text": [
      " students who scored greater than 90:\n",
      "[[78 89 94]\n",
      " [91 87 90]\n",
      " [87 95 84]]\n"
     ]
    }
   ],
   "source": [
    "foo_2(second_array)"
   ]
  },
  {
   "cell_type": "markdown",
   "id": "e69a5c01",
   "metadata": {},
   "source": [
    "## Eplanation :\n",
    "\n",
    "* <b>step-1</b> :creating a numpy array ,with np.array function\n",
    "* <b>step-2 </b> : here i'm creating function named foo_2,in that function i'm using (np.any) for accessing the students who got more than 90 .\n",
    "* <b> step-3 </b> : np.any(\"condition\"),it checks the condition we write in the paranthesis ,it prints the output as boolean type .\n",
    "* <b> step-4</b> : in the conditon ,i'm mentioning axis=1 because ,it is a 2 dim array,in 2 dim array axis 1 is nothing but collpsing rows it checks the condition in row wise.\n",
    "* <b> step-5</b> : again im writing boolean mask for the result ,then it prints the rows where the condition is true ."
   ]
  },
  {
   "cell_type": "markdown",
   "id": "a6de72fe",
   "metadata": {},
   "source": [
    "###  3.2 You are provided with a 2D NumPy array of data representing sales data for different products. Each row corresponds to a product, and each column represents the monthly sales for a specific month. Calculate the following statistics for each product: mean, median, standard deviation, and the month with the highest sales.\n"
   ]
  },
  {
   "cell_type": "code",
   "execution_count": 18,
   "id": "4223b3fe",
   "metadata": {},
   "outputs": [],
   "source": [
    "third_array=np.array([[120,150,130,110],\n",
    "                    [200,180,220,250],\n",
    "                    [90,100,95,110],     \n",
    "                    [300,280,320,340]])"
   ]
  },
  {
   "cell_type": "code",
   "execution_count": 19,
   "id": "2b3d8a5c",
   "metadata": {},
   "outputs": [
    {
     "data": {
      "text/plain": [
       "array([[120, 150, 130, 110],\n",
       "       [200, 180, 220, 250],\n",
       "       [ 90, 100,  95, 110],\n",
       "       [300, 280, 320, 340]])"
      ]
     },
     "execution_count": 19,
     "metadata": {},
     "output_type": "execute_result"
    }
   ],
   "source": [
    "third_array"
   ]
  },
  {
   "cell_type": "code",
   "execution_count": 20,
   "id": "5f1d266a",
   "metadata": {},
   "outputs": [],
   "source": [
    "product1=third_array[0,:]\n",
    "product2=third_array[1,:]\n",
    "product3=third_array[2,:]\n",
    "product4=third_array[3,:]"
   ]
  },
  {
   "cell_type": "code",
   "execution_count": 21,
   "id": "dc90ee36",
   "metadata": {},
   "outputs": [
    {
     "name": "stdout",
     "output_type": "stream",
     "text": [
      "The mean of product1 is : 127.5\n",
      "the mean of product2 is : 212.5\n",
      "the mean of product3 is : 98.75\n",
      "the mean of product4 is : 310.0\n"
     ]
    }
   ],
   "source": [
    "print(f'The mean of product1 is : {np.mean(product1)}') \n",
    "print(f'the mean of product2 is : {np.mean(product2)}')\n",
    "print(f'the mean of product3 is : {np.mean(product3)}')  ## sales of product4 is highest \n",
    "print(f'the mean of product4 is : {np.mean(product4)}')"
   ]
  },
  {
   "cell_type": "code",
   "execution_count": 22,
   "id": "294674a5",
   "metadata": {},
   "outputs": [
    {
     "name": "stdout",
     "output_type": "stream",
     "text": [
      "The median of product1 is : 125.0\n",
      "the median of product2 is : 210.0\n",
      "the median of product3 is : 97.5\n",
      "the median of product4 is : 310.0\n"
     ]
    }
   ],
   "source": [
    "print(f'The median of product1 is : {np.median(product1)}')\n",
    "print(f'the median of product2 is : {np.median(product2)}')\n",
    "print(f'the median of product3 is : {np.median(product3)}')\n",
    "print(f'the median of product4 is : {np.median(product4)}')"
   ]
  },
  {
   "cell_type": "code",
   "execution_count": 23,
   "id": "ee9e3681",
   "metadata": {},
   "outputs": [
    {
     "name": "stdout",
     "output_type": "stream",
     "text": [
      "The standard_deviation of product1 is : 14.79019945774904\n",
      "the standard_deviation of product2 is : 25.8602010819715\n",
      "the standard_deviation of product3 is : 7.39509972887452\n",
      "the standard_deviation of product4 is : 22.360679774997898\n"
     ]
    }
   ],
   "source": [
    "print(f'The standard_deviation of product1 is : {np.std(product1)}')\n",
    "print(f'the standard_deviation of product2 is : {np.std(product2)}')\n",
    "print(f'the standard_deviation of product3 is : {np.std(product3)}')\n",
    "print(f'the standard_deviation of product4 is : {np.std(product4)}')"
   ]
  },
  {
   "cell_type": "code",
   "execution_count": 24,
   "id": "6baed54a",
   "metadata": {},
   "outputs": [],
   "source": [
    "fst_mnth=third_array[:,0]\n",
    "scnd_mnth=third_array[:,1]\n",
    "thrd_mnth=third_array[:,2]\n",
    "frth_mnth=third_array[:,3]"
   ]
  },
  {
   "cell_type": "code",
   "execution_count": 25,
   "id": "d62f0fcf",
   "metadata": {},
   "outputs": [
    {
     "name": "stdout",
     "output_type": "stream",
     "text": [
      "first month of sales : 710\n",
      "second month of sales : 710\n",
      "third month of sales  : 765\n",
      "fourth month of sales : 810\n"
     ]
    }
   ],
   "source": [
    "print(f'first month of sales : {np.sum(fst_mnth)}')\n",
    "print(f'second month of sales : {np.sum(scnd_mnth)}')\n",
    "print(f'third month of sales  : {np.sum(thrd_mnth)}')\n",
    "print(f'fourth month of sales : {np.sum(frth_mnth)}')"
   ]
  },
  {
   "cell_type": "markdown",
   "id": "940167f2",
   "metadata": {},
   "source": [
    "## Explanation : \n",
    "* <b> Step-1 </b> : finding mean for the all products by using np.mean() function ,it gives the mean .\n",
    "* <b> step-2 </b> : finding median for all the products by using np.median() function .\n",
    "* <b> step-3 </b> : finding median for all the products by using np.std() function .\n",
    "*  <B> step-4 </B> : 4th month has highest sales "
   ]
  },
  {
   "cell_type": "markdown",
   "id": "03ff785b",
   "metadata": {},
   "source": [
    "###  Create a NumPy array of size 1000 with random integers between 1 and 100. Then, use NumPy functions to find the top 10 most frequently occurring values in the array.\n",
    "\n"
   ]
  },
  {
   "cell_type": "code",
   "execution_count": 60,
   "id": "9de450fc",
   "metadata": {},
   "outputs": [],
   "source": [
    "x=np.random.randint(1,101,1000) ## printing numbers randomly by using random function in numpy"
   ]
  },
  {
   "cell_type": "code",
   "execution_count": 27,
   "id": "602b9988",
   "metadata": {},
   "outputs": [
    {
     "data": {
      "text/plain": [
       "array([ 47,   6,  75,  86,   6,  31,  47,  95,  45,  43,  88,  78,  74,\n",
       "        62,  86,  96,  64,  56,  34,  68,  44,  81, 100,  75,  76,  34,\n",
       "        72,  52,  39,   3,  64,  16,  17,  64,  42,  12,  59,  67,  93,\n",
       "        30,  82,  20,  23,  49,  17, 100,  71,  33,  32,  19,  73,  39,\n",
       "        14,  47,  35,   2,  47,  69,  18,  98,  27,  90,  26,  70,  60,\n",
       "        49,   1,  80,   5,  95,  89,  55,  49,  41,   1,  90,  33,  63,\n",
       "         4,  20,  12,  63,   4,  69,  10,  43,  67,  89,   1,  38,  19,\n",
       "        16,  93,  14,  55,  63,  34,  62,  71,  58,  27,  18,   4,  61,\n",
       "        13,   6,  38,   1,  45,  67,  54,  58,  42,  29,  48,  79,  34,\n",
       "        54,  53,  42,   3,  36,  38,  74,  76,  55,  30,   1,  79,  35,\n",
       "        50,  14,  73,  19,  84,  40,   9,  75,  86,  32,  33,  79,  15,\n",
       "        49,  38,  56,   6,  86,  36,  59,  85,  43,  38,  98,  35,  99,\n",
       "        76,  74,  11,   1,  73,  52,  26,  95,  32, 100,  88,  21,  12,\n",
       "        12,  22,  61,  99,  16,  71,  46,  66,  53,  99,  59,  94,  50,\n",
       "        48,  11,  97,  13,  24,  43,  14,  43,  13,  93,  21,  91,  43,\n",
       "        71,  81,  50,  22,  86,  62,  40,  84,  12,  68,   7,   2,  70,\n",
       "        16,  15,  86,  87,  75,  46,  58,  22,  22,  48,   6,   1,  51,\n",
       "        59,   5,  96,  43,   6,   8,  72,  94,  50,  95,  92,  34,   5,\n",
       "        15,  25,  10,  37,  70,  73,  13,  69,  34,  95,  88,   5,  30,\n",
       "         8,  24,  56,  89,  40,  98,  45,  13,  25, 100,  82,  82,  65,\n",
       "        41,  46,  23,   2,  78,  34,  18,  22,  73,  60,  54,  68,  49,\n",
       "        15,  13,  67,  69,  76,  45,   5,  16,  44,  49,  76,  56,  38,\n",
       "        27,  16,  23,  82,  11,  76,  30,  11,  70,  75,  74,  54,  96,\n",
       "        38,  78,  56,   9,  76,  71,  33,  46,  19,  56,   1,  62,  49,\n",
       "        10,  61,  27,  16,  59,  51,  57,  13,  47,  24,  55,  32,  57,\n",
       "        93,   9,  59,  44,  36,  58,  68,  73,  46,  98,  30,  82,  13,\n",
       "        72,  97,  70,  69,  50,  11,  74,  90,  42,  96,  47,  47,  40,\n",
       "        97,  84,  46,   8,  33,  73,  72,  64,  97,  20,  23,  30,  19,\n",
       "        48,  46,  33,  38,   6,  38,  15,  55,  38,   5,  18,   7,  76,\n",
       "        38,  77,  11,   5,  78,  21,  79,  93,  76,  99,   5,  89,  74,\n",
       "        25,  33,  96,  90,  17,  45,  23,  37,   2,  51,  13,  25,  17,\n",
       "        55,  27,  51,  42,  28,  93,  63,  70,  98,  68,   2,   8,  39,\n",
       "        23,   9,  67,  95,  35,  86,  38,  77,  37,  56,  80,  41,  84,\n",
       "        25,  29,  24,  91,  36,  56,  86,  48,   8,  48,  61,  99,  85,\n",
       "        90,  11,  25,  48,  33,  76,  29,  19,  12,  87,   7,  98,  97,\n",
       "        92,  76,  48,  37,  40,  83,  97,  58,  47,  45,  14,  46,  17,\n",
       "        87,  11,  96,  46,  22,  38,  34,  59,   2,  73,  81,  48,  29,\n",
       "        20,  65,  82,  16,  47,  17,  36,  69,  52,  32,  38,  64,  79,\n",
       "        92,  41,  56,  27,  32,  29,  21,  82,  41,  43,  60,  99,  34,\n",
       "        61,  75,  17,  24,  29,  72,  60,   6,  47,  57,  11,  16,  59,\n",
       "        92,  65,  53,  47,  10,   4,  73,  25,  71,   9,  24,   3,  98,\n",
       "        15,  22,  74,  13,  32,  37,  75,   7,  70,  16,  11,  39,  34,\n",
       "        58,  30,  76, 100,  72,  41,  28,  94,  16,  30,  25,  71,  52,\n",
       "        57,  64,  68,  85,   4,  47,  60,  20,  17,  29,  31,  23,  11,\n",
       "        67,  26,  89,  26,  63,  95,  26,  35,  24,  80,  30,   4,  77,\n",
       "        62,  88,  11,  92,  12,  11,  22,  81,  63,   1,  19,  97,  16,\n",
       "        33,  22,  49,  26,  16,  84,   3,  82,  75,  84,  90,  14,   7,\n",
       "        59,  71,   1,  65,  78,   8,  45,  56,  38,  81,  53,  39,  72,\n",
       "        95,  39,  35,  23,  63,  12,   3,   2,  64,  87,  65,   3,  70,\n",
       "        59,  37,  14, 100,   7,   8,  45,  65,  36,  59,  63,  46,  64,\n",
       "        47,  68,  42,  36,  28,  65,  35,  84,  87,  69,  58,  14,  47,\n",
       "        45,  53,  75,  46,  97,  11,   8,  73,  77,  21,   9,  60,  71,\n",
       "         8,  16,  50,  46,   1,  48,   4,  77,  98,  72,  43,  71,   8,\n",
       "        27,  25,  33,  74,  62,  61,  91,  22,  71,  31,  55,  76,   8,\n",
       "        40,  52,  55,  28,  91,  80,  51,  88,  89,  73,  41,  74,  74,\n",
       "        45,  62,  76,  91,  14,  13,   5,  17,   7,  48,  27,  25,  35,\n",
       "        78,   9,  81,  24,  30,  89,   9,  96,  56,  13, 100,  65,  75,\n",
       "        38,  38,  13,  97,  42,  69,  92,  93,  23,  67,  21,  46,  49,\n",
       "        92,  23,  80,  91,  13,  12,  17,  62,  52,   9,  84,  46,   9,\n",
       "        40,  96,  30,  26,  14,  10,  76,  82,  92,  59,  87,  70,  33,\n",
       "        70,  36,  41,  49,  70,  23,  49,  83,  33,  67,  64,  50,  83,\n",
       "        12,  85,   1,  39,  48,  49,  50,  21,  22,  94,  93,  26,  24,\n",
       "        24,  12,  93,  89,  80,  42,  52,   5,  85,  56,  18,  68,  63,\n",
       "        60,  72,  12,  14,  67,  57,  32,  19,  88,  84,  84,  71,  67,\n",
       "        85,  25,  99,  42,  73, 100,  29,  25,  48,   1,  11,  54,  34,\n",
       "        93,  18,  20,   5,  29,  72,  94,  98,  18,  51,   6,  70,  18,\n",
       "        83,  90,  51,  48,  43,  76,  53,  90,  60,  48,   7,  27,  54,\n",
       "        24,  77,  69,  35,   7,  95,  37,  92,  10,   5,  50,  59,   7,\n",
       "        30,   9,   5,  23,  22,  91,  49,  91,  35,  14,  18,  77,   4,\n",
       "        90,  95,  51,  89,  78,  81,  73,  87,  38,   5,  65,  19,  46,\n",
       "        39,  83,  77,  37,  14,  82,  25,  88,   8,  41,  99,  21,  31,\n",
       "        53,  45,  62,  56,  81,  46,  89,  91,  25,  98,  44,   1,  17,\n",
       "        85,  93,  65,  31,  88,  36,  71,   3,  59,  63,   4,  17,  28,\n",
       "        56,  90,  72,  23,  50,  11,  36,  13,  83,  31,  89,  14,  91,\n",
       "        31,  36,  17,  49,   1,  24,  60,   2,  25,  98,  13,  59,  15,\n",
       "        10,  59,  39,  53,  99,  65,  83,  22,  55,  18,  15,  82,   8,\n",
       "        84,  87,  86,  70,  89,  49,  17,  70,  50,  29,  84,  11])"
      ]
     },
     "execution_count": 27,
     "metadata": {},
     "output_type": "execute_result"
    }
   ],
   "source": [
    "x"
   ]
  },
  {
   "cell_type": "code",
   "execution_count": 83,
   "id": "dd44e411",
   "metadata": {},
   "outputs": [],
   "source": [
    "def array(x):\n",
    "    unique,No_unique = np.unique(x, return_counts=True)\n",
    "    sorted = np.argsort(-No_unique)    ## it sorting in descending Order(max num to min num) ,Then we get the the highest counts \n",
    "    top_10_values = unique[sorted[:10]]   \n",
    "    top_10_counts = No_unique[sorted[:10]]\n",
    "    print(unique,No_unique,sep='\\n\\n\\n')\n",
    "    print('\\n'\"Top 10 most frequently occurring values:\")\n",
    "    for value, count in zip(top_10_values, top_10_counts):\n",
    "        print( '\\n'f\" Number  : {value},       No_times_repeated  : {count}\",sep='\\n')"
   ]
  },
  {
   "cell_type": "code",
   "execution_count": 84,
   "id": "7b63047c",
   "metadata": {},
   "outputs": [
    {
     "name": "stdout",
     "output_type": "stream",
     "text": [
      "[  1   2   3   4   5   6   7   8   9  10  11  12  13  14  15  16  17  18\n",
      "  19  20  21  22  23  24  25  26  27  28  29  30  31  32  33  34  35  36\n",
      "  37  38  39  40  41  42  43  44  45  46  47  48  49  50  51  52  53  54\n",
      "  55  56  57  58  59  60  61  62  63  64  65  66  67  68  69  70  71  72\n",
      "  73  74  75  76  77  78  79  80  81  82  83  84  85  86  87  88  89  90\n",
      "  91  92  93  94  95  96  97  98  99 100]\n",
      "\n",
      "\n",
      "[12  5 10  6  7  7 11 10 11 13  9 14 10 10  9  9 11 10  8  8 17 11 14  9\n",
      "  7 18 12  8 17 10 12  9 16  3  9 10 11 13 12 11  8 14 11 11 12  5 10 11\n",
      "  8 12  1  9 11 10 11  6 10 12  8  9  4  8  7  6  5 15  8 10 15 15 11 10\n",
      " 12 10  8  8  9  7 13  9  7 13 11  8 13  5  7  8 12 11 13 10 10  9 13  9\n",
      " 19  6  9  9]\n",
      "\n",
      "Top 10 most frequently occurring values:\n",
      "\n",
      " Number  : 97,       No_times_repeated  : 19\n",
      "\n",
      " Number  : 26,       No_times_repeated  : 18\n",
      "\n",
      " Number  : 29,       No_times_repeated  : 17\n",
      "\n",
      " Number  : 21,       No_times_repeated  : 17\n",
      "\n",
      " Number  : 33,       No_times_repeated  : 16\n",
      "\n",
      " Number  : 66,       No_times_repeated  : 15\n",
      "\n",
      " Number  : 70,       No_times_repeated  : 15\n",
      "\n",
      " Number  : 69,       No_times_repeated  : 15\n",
      "\n",
      " Number  : 42,       No_times_repeated  : 14\n",
      "\n",
      " Number  : 12,       No_times_repeated  : 14\n"
     ]
    }
   ],
   "source": [
    "array(x)"
   ]
  },
  {
   "cell_type": "markdown",
   "id": "095f1482",
   "metadata": {},
   "source": [
    "## Explanation : \n",
    "\n",
    "* <b> step-1 </b> : writing a function which accepts array.\n",
    "* <b> step-2 </b> :  unique,No_unique = np.unique(x, return_counts=True)\n",
    "* ---> unique = it prints the unique numbers(without repeated ).\n",
    "* -----> no_unique : it gives the count of repeated unique numbers .\n",
    "* <b> step-3 </b> :  sorted = np.argsort(-No_unique)  \n",
    "* -----> argsort = it sorting the values \n",
    "* ---->(-No-unique) = it asscending in reverse order (max to min )\n",
    "* <b> step-4 </b> : top_10_counts = No_unique[sorted[:10]] ---> accesing first 10 numbers which are more repeated "
   ]
  },
  {
   "cell_type": "code",
   "execution_count": null,
   "id": "8de7dc75",
   "metadata": {},
   "outputs": [],
   "source": []
  }
 ],
 "metadata": {
  "kernelspec": {
   "display_name": "Python 3 (ipykernel)",
   "language": "python",
   "name": "python3"
  },
  "language_info": {
   "codemirror_mode": {
    "name": "ipython",
    "version": 3
   },
   "file_extension": ".py",
   "mimetype": "text/x-python",
   "name": "python",
   "nbconvert_exporter": "python",
   "pygments_lexer": "ipython3",
   "version": "3.11.5"
  }
 },
 "nbformat": 4,
 "nbformat_minor": 5
}
